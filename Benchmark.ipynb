{
 "cells": [
  {
   "cell_type": "code",
   "execution_count": 5,
   "metadata": {},
   "outputs": [],
   "source": [
    "import torch\n",
    "import torch.nn as nn\n",
    "import torch.optim as optim\n",
    "import torchvision\n",
    "import torchvision.transforms as transforms\n",
    "import numpy as np\n",
    "from torchvision.models import vgg16, densenet121\n",
    "from timm import create_model\n",
    "import time\n",
    "from tqdm import tqdm\n",
    "import os\n",
    "from thop import profile\n",
    "\n",
    "\n",
    "\n",
    "\n"
   ]
  },
  {
   "cell_type": "code",
   "execution_count": 6,
   "metadata": {},
   "outputs": [
    {
     "name": "stdout",
     "output_type": "stream",
     "text": [
      "Files already downloaded and verified\n",
      "Files already downloaded and verified\n"
     ]
    }
   ],
   "source": [
    "transform = transforms.Compose([\n",
    "    transforms.RandomHorizontalFlip(),\n",
    "    transforms.RandomCrop(32, padding=4),\n",
    "    transforms.ToTensor(),\n",
    "    transforms.Normalize((0.5, 0.5, 0.5), (0.5, 0.5, 0.5))\n",
    "])\n",
    "\n",
    "\n",
    "\n",
    "train_dataset = torchvision.datasets.CIFAR100(root='./data', train=True, download=True, transform=transform)\n",
    "test_dataset = torchvision.datasets.CIFAR100(root='./data', train=False, download=True, transform=transform)\n",
    "\n",
    "# Split the training data into training and validation sets\n",
    "train_length = int(0.9 * len(train_dataset))\n",
    "val_length = len(train_dataset) - train_length\n",
    "train_subset, val_subset = torch.utils.data.random_split(train_dataset, [train_length, val_length])\n",
    "\n",
    "trainloader = torch.utils.data.DataLoader(train_subset, batch_size=256, shuffle=True, num_workers=2)\n",
    "valloader = torch.utils.data.DataLoader(val_subset, batch_size=256, shuffle=False, num_workers=2)\n",
    "testloader = torch.utils.data.DataLoader(test_dataset, batch_size=256, shuffle=False, num_workers=2)\n"
   ]
  },
  {
   "cell_type": "code",
   "execution_count": 8,
   "metadata": {},
   "outputs": [],
   "source": [
    "device = torch.device(\"cuda:0\" if torch.cuda.is_available() else \"cpu\")\n",
    "\n",
    "models = {\n",
    "    \"VGGNet16\": vgg16(num_classes=100).to(device),\n",
    "    \"DenseNet\": densenet121(num_classes=100).to(device),\n",
    "    \"EfficientNet\": create_model('efficientnet_b0', pretrained=False, num_classes=100).to(device),\n",
    "    \"NFNet\": create_model('nfnet_f0', pretrained=False, num_classes=100).to(device), \n",
    "    \"RegNet\": create_model('regnety_002', pretrained=False, num_classes=100).to(device),\n",
    "    # \"InceptionV4\": create_model('inception_v4', pretrained=False, num_classes=100).to(device)\n",
    "    \"ResNet-50\": create_model('resnet50', pretrained=False, num_classes=100).to(device)\n",
    "\n",
    "}\n",
    "\n",
    "criterion = nn.CrossEntropyLoss()\n",
    "optimizers = {name: optim.SGD(model.parameters(), lr=0.01, momentum=0.9, weight_decay=5e-4) for name, model in models.items()}\n"
   ]
  },
  {
   "cell_type": "code",
   "execution_count": null,
   "metadata": {},
   "outputs": [],
   "source": [
    "from thop import profile\n",
    "\n",
    "def compute_flops(models):\n",
    "    flops_results = {}\n",
    "\n",
    "    for name, model in models.items():\n",
    "        print(f\"Computing FLOPs for {name}...\")\n",
    "\n",
    "        # Move model to device\n",
    "        model = model.to(device)\n",
    "\n",
    "        # Create a random input sample to feed into the model\n",
    "        input_sample = torch.randn(1, 3, 224, 224).to(device)  # Assuming input size is 224x224x3\n",
    "\n",
    "        # Compute FLOPs\n",
    "        macs, params = profile(model, inputs=(input_sample, ))\n",
    "        flops = macs * 2  # Convert Multiply-Accumulate operations to FLOPs\n",
    "\n",
    "        flops_results[name] = flops\n",
    "\n",
    "        print(f\"{name} - FLOPs: {flops:.2f}\")\n",
    "\n",
    "    return flops_results\n",
    "\n",
    "# Call the function\n",
    "flops_data = compute_flops(models)\n",
    "print(flops_data)\n"
   ]
  },
  {
   "cell_type": "code",
   "execution_count": 7,
   "metadata": {},
   "outputs": [
    {
     "name": "stdout",
     "output_type": "stream",
     "text": [
      "Training ResNet-50...\n"
     ]
    },
    {
     "name": "stderr",
     "output_type": "stream",
     "text": [
      "Epochs:   1%|          | 1/100 [00:20<33:48, 20.49s/it]"
     ]
    },
    {
     "name": "stdout",
     "output_type": "stream",
     "text": [
      "Epoch 1/100 - Training Loss: 4.4677, Training Accuracy: 2.92%, Validation Loss: 4.4263, Validation Accuracy: 3.12%, Time: 20.49s\n"
     ]
    },
    {
     "name": "stderr",
     "output_type": "stream",
     "text": [
      "Epochs:   2%|▏         | 2/100 [00:38<30:39, 18.77s/it]"
     ]
    },
    {
     "name": "stdout",
     "output_type": "stream",
     "text": [
      "Epoch 2/100 - Training Loss: 4.3397, Training Accuracy: 4.18%, Validation Loss: 4.2968, Validation Accuracy: 4.90%, Time: 17.56s\n"
     ]
    },
    {
     "name": "stderr",
     "output_type": "stream",
     "text": [
      "Epochs:   3%|▎         | 3/100 [00:54<28:30, 17.63s/it]"
     ]
    },
    {
     "name": "stdout",
     "output_type": "stream",
     "text": [
      "Epoch 3/100 - Training Loss: 4.1956, Training Accuracy: 5.58%, Validation Loss: 4.1328, Validation Accuracy: 6.06%, Time: 16.27s\n"
     ]
    },
    {
     "name": "stderr",
     "output_type": "stream",
     "text": [
      "Epochs:   4%|▍         | 4/100 [01:11<27:39, 17.29s/it]"
     ]
    },
    {
     "name": "stdout",
     "output_type": "stream",
     "text": [
      "Epoch 4/100 - Training Loss: 4.0093, Training Accuracy: 7.84%, Validation Loss: 3.9296, Validation Accuracy: 9.18%, Time: 16.77s\n"
     ]
    },
    {
     "name": "stderr",
     "output_type": "stream",
     "text": [
      "Epochs:   5%|▌         | 5/100 [01:27<26:35, 16.80s/it]"
     ]
    },
    {
     "name": "stdout",
     "output_type": "stream",
     "text": [
      "Epoch 5/100 - Training Loss: 3.7798, Training Accuracy: 11.37%, Validation Loss: 3.6872, Validation Accuracy: 12.56%, Time: 15.92s\n"
     ]
    },
    {
     "name": "stderr",
     "output_type": "stream",
     "text": [
      "Epochs:   6%|▌         | 6/100 [01:42<25:51, 16.51s/it]"
     ]
    },
    {
     "name": "stdout",
     "output_type": "stream",
     "text": [
      "Epoch 6/100 - Training Loss: 3.5791, Training Accuracy: 14.83%, Validation Loss: 3.5297, Validation Accuracy: 16.02%, Time: 15.94s\n"
     ]
    },
    {
     "name": "stderr",
     "output_type": "stream",
     "text": [
      "Epochs:   7%|▋         | 7/100 [01:58<25:09, 16.23s/it]"
     ]
    },
    {
     "name": "stdout",
     "output_type": "stream",
     "text": [
      "Epoch 7/100 - Training Loss: 3.4247, Training Accuracy: 17.28%, Validation Loss: 3.3949, Validation Accuracy: 17.72%, Time: 15.65s\n"
     ]
    },
    {
     "name": "stderr",
     "output_type": "stream",
     "text": [
      "Epochs:   8%|▊         | 8/100 [02:16<25:44, 16.79s/it]"
     ]
    },
    {
     "name": "stdout",
     "output_type": "stream",
     "text": [
      "Epoch 8/100 - Training Loss: 3.2938, Training Accuracy: 19.65%, Validation Loss: 3.2474, Validation Accuracy: 21.28%, Time: 17.98s\n"
     ]
    },
    {
     "name": "stderr",
     "output_type": "stream",
     "text": [
      "Epochs:   9%|▉         | 9/100 [02:35<26:29, 17.46s/it]"
     ]
    },
    {
     "name": "stdout",
     "output_type": "stream",
     "text": [
      "Epoch 9/100 - Training Loss: 3.1586, Training Accuracy: 22.18%, Validation Loss: 3.1696, Validation Accuracy: 22.90%, Time: 18.95s\n"
     ]
    },
    {
     "name": "stderr",
     "output_type": "stream",
     "text": [
      "Epochs:  10%|█         | 10/100 [02:51<25:30, 17.01s/it]"
     ]
    },
    {
     "name": "stdout",
     "output_type": "stream",
     "text": [
      "Epoch 10/100 - Training Loss: 3.0272, Training Accuracy: 24.82%, Validation Loss: 3.0866, Validation Accuracy: 24.26%, Time: 15.99s\n"
     ]
    },
    {
     "name": "stderr",
     "output_type": "stream",
     "text": [
      "Epochs:  11%|█         | 11/100 [03:07<24:31, 16.54s/it]"
     ]
    },
    {
     "name": "stdout",
     "output_type": "stream",
     "text": [
      "Epoch 11/100 - Training Loss: 2.9140, Training Accuracy: 26.64%, Validation Loss: 2.9513, Validation Accuracy: 26.70%, Time: 15.47s\n"
     ]
    },
    {
     "name": "stderr",
     "output_type": "stream",
     "text": [
      "Epochs:  12%|█▏        | 12/100 [03:23<24:09, 16.47s/it]"
     ]
    },
    {
     "name": "stdout",
     "output_type": "stream",
     "text": [
      "Epoch 12/100 - Training Loss: 2.7989, Training Accuracy: 29.22%, Validation Loss: 2.8591, Validation Accuracy: 28.44%, Time: 16.32s\n"
     ]
    },
    {
     "name": "stderr",
     "output_type": "stream",
     "text": [
      "Epochs:  13%|█▎        | 13/100 [03:39<23:33, 16.25s/it]"
     ]
    },
    {
     "name": "stdout",
     "output_type": "stream",
     "text": [
      "Epoch 13/100 - Training Loss: 2.7036, Training Accuracy: 31.24%, Validation Loss: 2.7858, Validation Accuracy: 29.60%, Time: 15.73s\n"
     ]
    },
    {
     "name": "stderr",
     "output_type": "stream",
     "text": [
      "Epochs:  14%|█▍        | 14/100 [03:56<23:56, 16.70s/it]"
     ]
    },
    {
     "name": "stdout",
     "output_type": "stream",
     "text": [
      "Epoch 14/100 - Training Loss: 2.6087, Training Accuracy: 33.02%, Validation Loss: 2.7137, Validation Accuracy: 30.52%, Time: 17.74s\n"
     ]
    },
    {
     "name": "stderr",
     "output_type": "stream",
     "text": [
      "Epochs:  15%|█▌        | 15/100 [04:12<23:12, 16.39s/it]"
     ]
    },
    {
     "name": "stdout",
     "output_type": "stream",
     "text": [
      "Epoch 15/100 - Training Loss: 2.5236, Training Accuracy: 34.86%, Validation Loss: 2.6556, Validation Accuracy: 31.16%, Time: 15.66s\n"
     ]
    },
    {
     "name": "stderr",
     "output_type": "stream",
     "text": [
      "Epochs:  16%|█▌        | 16/100 [04:28<22:45, 16.26s/it]"
     ]
    },
    {
     "name": "stdout",
     "output_type": "stream",
     "text": [
      "Epoch 16/100 - Training Loss: 2.4357, Training Accuracy: 36.57%, Validation Loss: 2.5720, Validation Accuracy: 33.94%, Time: 15.96s\n"
     ]
    },
    {
     "name": "stderr",
     "output_type": "stream",
     "text": [
      "Epochs:  17%|█▋        | 17/100 [04:42<21:44, 15.72s/it]"
     ]
    },
    {
     "name": "stdout",
     "output_type": "stream",
     "text": [
      "Epoch 17/100 - Training Loss: 2.3531, Training Accuracy: 38.17%, Validation Loss: 2.6167, Validation Accuracy: 33.70%, Time: 14.46s\n"
     ]
    },
    {
     "name": "stderr",
     "output_type": "stream",
     "text": [
      "Epochs:  18%|█▊        | 18/100 [04:58<21:30, 15.74s/it]"
     ]
    },
    {
     "name": "stdout",
     "output_type": "stream",
     "text": [
      "Epoch 18/100 - Training Loss: 2.2842, Training Accuracy: 39.65%, Validation Loss: 2.5214, Validation Accuracy: 35.20%, Time: 15.78s\n"
     ]
    },
    {
     "name": "stderr",
     "output_type": "stream",
     "text": [
      "Epochs:  19%|█▉        | 19/100 [05:15<21:31, 15.95s/it]"
     ]
    },
    {
     "name": "stdout",
     "output_type": "stream",
     "text": [
      "Epoch 19/100 - Training Loss: 2.2244, Training Accuracy: 40.97%, Validation Loss: 2.4870, Validation Accuracy: 36.56%, Time: 16.43s\n"
     ]
    },
    {
     "name": "stderr",
     "output_type": "stream",
     "text": [
      "Epochs:  20%|██        | 20/100 [05:31<21:18, 15.98s/it]"
     ]
    },
    {
     "name": "stdout",
     "output_type": "stream",
     "text": [
      "Epoch 20/100 - Training Loss: 2.1487, Training Accuracy: 42.58%, Validation Loss: 2.5004, Validation Accuracy: 36.68%, Time: 16.07s\n"
     ]
    },
    {
     "name": "stderr",
     "output_type": "stream",
     "text": [
      "Epochs:  21%|██        | 21/100 [05:47<21:07, 16.04s/it]"
     ]
    },
    {
     "name": "stdout",
     "output_type": "stream",
     "text": [
      "Epoch 21/100 - Training Loss: 2.0934, Training Accuracy: 43.84%, Validation Loss: 2.3613, Validation Accuracy: 37.98%, Time: 16.17s\n"
     ]
    },
    {
     "name": "stderr",
     "output_type": "stream",
     "text": [
      "Epochs:  22%|██▏       | 22/100 [06:03<20:59, 16.15s/it]"
     ]
    },
    {
     "name": "stdout",
     "output_type": "stream",
     "text": [
      "Epoch 22/100 - Training Loss: 2.0347, Training Accuracy: 45.16%, Validation Loss: 2.3510, Validation Accuracy: 38.56%, Time: 16.41s\n"
     ]
    },
    {
     "name": "stderr",
     "output_type": "stream",
     "text": [
      "Epochs:  23%|██▎       | 23/100 [06:19<20:37, 16.07s/it]"
     ]
    },
    {
     "name": "stdout",
     "output_type": "stream",
     "text": [
      "Epoch 23/100 - Training Loss: 1.9776, Training Accuracy: 46.42%, Validation Loss: 2.3436, Validation Accuracy: 38.62%, Time: 15.89s\n"
     ]
    },
    {
     "name": "stderr",
     "output_type": "stream",
     "text": [
      "Epochs:  24%|██▍       | 24/100 [06:34<20:04, 15.84s/it]"
     ]
    },
    {
     "name": "stdout",
     "output_type": "stream",
     "text": [
      "Epoch 24/100 - Training Loss: 1.9226, Training Accuracy: 47.83%, Validation Loss: 2.2824, Validation Accuracy: 40.54%, Time: 15.30s\n"
     ]
    },
    {
     "name": "stderr",
     "output_type": "stream",
     "text": [
      "Epochs:  25%|██▌       | 25/100 [06:49<19:15, 15.40s/it]"
     ]
    },
    {
     "name": "stdout",
     "output_type": "stream",
     "text": [
      "Epoch 25/100 - Training Loss: 1.8702, Training Accuracy: 49.20%, Validation Loss: 2.3515, Validation Accuracy: 39.40%, Time: 14.37s\n"
     ]
    },
    {
     "name": "stderr",
     "output_type": "stream",
     "text": [
      "Epochs:  26%|██▌       | 26/100 [07:04<18:44, 15.20s/it]"
     ]
    },
    {
     "name": "stdout",
     "output_type": "stream",
     "text": [
      "Epoch 26/100 - Training Loss: 1.8170, Training Accuracy: 50.42%, Validation Loss: 2.2687, Validation Accuracy: 40.92%, Time: 14.72s\n"
     ]
    },
    {
     "name": "stderr",
     "output_type": "stream",
     "text": [
      "Epochs:  27%|██▋       | 27/100 [07:20<18:56, 15.57s/it]"
     ]
    },
    {
     "name": "stdout",
     "output_type": "stream",
     "text": [
      "Epoch 27/100 - Training Loss: 1.7664, Training Accuracy: 51.49%, Validation Loss: 2.2226, Validation Accuracy: 42.08%, Time: 16.43s\n"
     ]
    },
    {
     "name": "stderr",
     "output_type": "stream",
     "text": [
      "Epochs:  28%|██▊       | 28/100 [07:34<18:17, 15.24s/it]"
     ]
    },
    {
     "name": "stdout",
     "output_type": "stream",
     "text": [
      "Epoch 28/100 - Training Loss: 1.7118, Training Accuracy: 52.59%, Validation Loss: 2.2471, Validation Accuracy: 41.78%, Time: 14.47s\n"
     ]
    },
    {
     "name": "stderr",
     "output_type": "stream",
     "text": [
      "Epochs:  29%|██▉       | 29/100 [07:49<17:47, 15.04s/it]"
     ]
    },
    {
     "name": "stdout",
     "output_type": "stream",
     "text": [
      "Epoch 29/100 - Training Loss: 1.6685, Training Accuracy: 53.68%, Validation Loss: 2.2325, Validation Accuracy: 41.76%, Time: 14.56s\n"
     ]
    },
    {
     "name": "stderr",
     "output_type": "stream",
     "text": [
      "Epochs:  30%|███       | 30/100 [08:05<17:49, 15.28s/it]"
     ]
    },
    {
     "name": "stdout",
     "output_type": "stream",
     "text": [
      "Epoch 30/100 - Training Loss: 1.6234, Training Accuracy: 54.74%, Validation Loss: 2.2084, Validation Accuracy: 42.96%, Time: 15.84s\n"
     ]
    },
    {
     "name": "stderr",
     "output_type": "stream",
     "text": [
      "Epochs:  31%|███       | 31/100 [08:22<18:07, 15.76s/it]"
     ]
    },
    {
     "name": "stdout",
     "output_type": "stream",
     "text": [
      "Epoch 31/100 - Training Loss: 1.5782, Training Accuracy: 55.94%, Validation Loss: 2.1834, Validation Accuracy: 43.30%, Time: 16.89s\n"
     ]
    },
    {
     "name": "stderr",
     "output_type": "stream",
     "text": [
      "Epochs:  32%|███▏      | 32/100 [08:40<18:33, 16.38s/it]"
     ]
    },
    {
     "name": "stdout",
     "output_type": "stream",
     "text": [
      "Epoch 32/100 - Training Loss: 1.5350, Training Accuracy: 57.34%, Validation Loss: 2.1771, Validation Accuracy: 43.46%, Time: 17.82s\n"
     ]
    },
    {
     "name": "stderr",
     "output_type": "stream",
     "text": [
      "Epochs:  33%|███▎      | 33/100 [08:56<18:12, 16.31s/it]"
     ]
    },
    {
     "name": "stdout",
     "output_type": "stream",
     "text": [
      "Epoch 33/100 - Training Loss: 1.4904, Training Accuracy: 58.18%, Validation Loss: 2.1644, Validation Accuracy: 44.26%, Time: 16.15s\n"
     ]
    },
    {
     "name": "stderr",
     "output_type": "stream",
     "text": [
      "Epochs:  34%|███▍      | 34/100 [09:11<17:42, 16.10s/it]"
     ]
    },
    {
     "name": "stdout",
     "output_type": "stream",
     "text": [
      "Epoch 34/100 - Training Loss: 1.4410, Training Accuracy: 59.56%, Validation Loss: 2.1298, Validation Accuracy: 44.00%, Time: 15.62s\n"
     ]
    },
    {
     "name": "stderr",
     "output_type": "stream",
     "text": [
      "Epochs:  35%|███▌      | 35/100 [09:29<17:49, 16.45s/it]"
     ]
    },
    {
     "name": "stdout",
     "output_type": "stream",
     "text": [
      "Epoch 35/100 - Training Loss: 1.4002, Training Accuracy: 60.55%, Validation Loss: 2.1330, Validation Accuracy: 44.60%, Time: 17.27s\n"
     ]
    },
    {
     "name": "stderr",
     "output_type": "stream",
     "text": [
      "Epochs:  36%|███▌      | 36/100 [09:43<16:55, 15.87s/it]"
     ]
    },
    {
     "name": "stdout",
     "output_type": "stream",
     "text": [
      "Epoch 36/100 - Training Loss: 1.3514, Training Accuracy: 61.70%, Validation Loss: 2.1634, Validation Accuracy: 43.80%, Time: 14.52s\n"
     ]
    },
    {
     "name": "stderr",
     "output_type": "stream",
     "text": [
      "Epochs:  37%|███▋      | 37/100 [09:59<16:45, 15.97s/it]"
     ]
    },
    {
     "name": "stdout",
     "output_type": "stream",
     "text": [
      "Epoch 37/100 - Training Loss: 1.3105, Training Accuracy: 62.84%, Validation Loss: 2.1565, Validation Accuracy: 45.06%, Time: 16.18s\n"
     ]
    },
    {
     "name": "stderr",
     "output_type": "stream",
     "text": [
      "Epochs:  38%|███▊      | 38/100 [10:16<16:49, 16.27s/it]"
     ]
    },
    {
     "name": "stdout",
     "output_type": "stream",
     "text": [
      "Epoch 38/100 - Training Loss: 1.2729, Training Accuracy: 63.68%, Validation Loss: 2.1348, Validation Accuracy: 45.38%, Time: 16.99s\n"
     ]
    },
    {
     "name": "stderr",
     "output_type": "stream",
     "text": [
      "Epochs:  39%|███▉      | 39/100 [10:31<16:07, 15.86s/it]"
     ]
    },
    {
     "name": "stdout",
     "output_type": "stream",
     "text": [
      "Epoch 39/100 - Training Loss: 1.2348, Training Accuracy: 64.54%, Validation Loss: 2.2277, Validation Accuracy: 43.96%, Time: 14.90s\n"
     ]
    },
    {
     "name": "stderr",
     "output_type": "stream",
     "text": [
      "Epochs:  40%|████      | 40/100 [10:46<15:26, 15.44s/it]"
     ]
    },
    {
     "name": "stdout",
     "output_type": "stream",
     "text": [
      "Epoch 40/100 - Training Loss: 1.1893, Training Accuracy: 65.81%, Validation Loss: 2.1583, Validation Accuracy: 44.58%, Time: 14.45s\n"
     ]
    },
    {
     "name": "stderr",
     "output_type": "stream",
     "text": [
      "Epochs:  41%|████      | 41/100 [11:02<15:27, 15.73s/it]"
     ]
    },
    {
     "name": "stdout",
     "output_type": "stream",
     "text": [
      "Epoch 41/100 - Training Loss: 1.1402, Training Accuracy: 67.15%, Validation Loss: 2.1319, Validation Accuracy: 46.32%, Time: 16.39s\n"
     ]
    },
    {
     "name": "stderr",
     "output_type": "stream",
     "text": [
      "Epochs:  42%|████▏     | 42/100 [11:17<15:00, 15.52s/it]"
     ]
    },
    {
     "name": "stdout",
     "output_type": "stream",
     "text": [
      "Epoch 42/100 - Training Loss: 1.1069, Training Accuracy: 67.70%, Validation Loss: 2.1881, Validation Accuracy: 45.34%, Time: 15.04s\n"
     ]
    },
    {
     "name": "stderr",
     "output_type": "stream",
     "text": [
      "Epochs:  43%|████▎     | 43/100 [11:32<14:40, 15.44s/it]"
     ]
    },
    {
     "name": "stdout",
     "output_type": "stream",
     "text": [
      "Epoch 43/100 - Training Loss: 1.0764, Training Accuracy: 68.94%, Validation Loss: 2.2026, Validation Accuracy: 44.66%, Time: 15.26s\n"
     ]
    },
    {
     "name": "stderr",
     "output_type": "stream",
     "text": [
      "Epochs:  44%|████▍     | 44/100 [11:47<14:04, 15.08s/it]"
     ]
    },
    {
     "name": "stdout",
     "output_type": "stream",
     "text": [
      "Epoch 44/100 - Training Loss: 1.0300, Training Accuracy: 69.89%, Validation Loss: 2.2354, Validation Accuracy: 44.42%, Time: 14.24s\n"
     ]
    },
    {
     "name": "stderr",
     "output_type": "stream",
     "text": [
      "Epochs:  45%|████▌     | 45/100 [12:01<13:36, 14.85s/it]"
     ]
    },
    {
     "name": "stdout",
     "output_type": "stream",
     "text": [
      "Epoch 45/100 - Training Loss: 0.9915, Training Accuracy: 71.28%, Validation Loss: 2.2009, Validation Accuracy: 45.20%, Time: 14.30s\n"
     ]
    },
    {
     "name": "stderr",
     "output_type": "stream",
     "text": [
      "Epochs:  46%|████▌     | 46/100 [12:16<13:26, 14.94s/it]"
     ]
    },
    {
     "name": "stdout",
     "output_type": "stream",
     "text": [
      "Epoch 46/100 - Training Loss: 0.9524, Training Accuracy: 72.31%, Validation Loss: 2.1959, Validation Accuracy: 46.42%, Time: 15.17s\n"
     ]
    },
    {
     "name": "stderr",
     "output_type": "stream",
     "text": [
      "Epochs:  47%|████▋     | 47/100 [12:29<12:46, 14.46s/it]"
     ]
    },
    {
     "name": "stdout",
     "output_type": "stream",
     "text": [
      "Epoch 47/100 - Training Loss: 0.9118, Training Accuracy: 73.36%, Validation Loss: 2.1926, Validation Accuracy: 46.28%, Time: 13.33s\n"
     ]
    },
    {
     "name": "stderr",
     "output_type": "stream",
     "text": [
      "Epochs:  48%|████▊     | 48/100 [12:44<12:37, 14.57s/it]"
     ]
    },
    {
     "name": "stdout",
     "output_type": "stream",
     "text": [
      "Epoch 48/100 - Training Loss: 0.8758, Training Accuracy: 74.26%, Validation Loss: 2.3580, Validation Accuracy: 43.46%, Time: 14.83s\n"
     ]
    },
    {
     "name": "stderr",
     "output_type": "stream",
     "text": [
      "Epochs:  49%|████▉     | 49/100 [12:58<12:13, 14.39s/it]"
     ]
    },
    {
     "name": "stdout",
     "output_type": "stream",
     "text": [
      "Epoch 49/100 - Training Loss: 0.8428, Training Accuracy: 75.21%, Validation Loss: 2.2270, Validation Accuracy: 45.66%, Time: 13.95s\n"
     ]
    },
    {
     "name": "stderr",
     "output_type": "stream",
     "text": [
      "Epochs:  50%|█████     | 50/100 [13:12<11:56, 14.33s/it]"
     ]
    },
    {
     "name": "stdout",
     "output_type": "stream",
     "text": [
      "Epoch 50/100 - Training Loss: 0.8115, Training Accuracy: 76.02%, Validation Loss: 2.2943, Validation Accuracy: 44.96%, Time: 14.19s\n"
     ]
    },
    {
     "name": "stderr",
     "output_type": "stream",
     "text": [
      "Epochs:  51%|█████     | 51/100 [13:27<11:44, 14.37s/it]"
     ]
    },
    {
     "name": "stdout",
     "output_type": "stream",
     "text": [
      "Epoch 51/100 - Training Loss: 0.7694, Training Accuracy: 77.27%, Validation Loss: 2.3245, Validation Accuracy: 44.74%, Time: 14.47s\n"
     ]
    },
    {
     "name": "stderr",
     "output_type": "stream",
     "text": [
      "Epochs:  52%|█████▏    | 52/100 [13:41<11:28, 14.34s/it]"
     ]
    },
    {
     "name": "stdout",
     "output_type": "stream",
     "text": [
      "Epoch 52/100 - Training Loss: 0.7372, Training Accuracy: 78.25%, Validation Loss: 2.2883, Validation Accuracy: 45.54%, Time: 14.27s\n"
     ]
    },
    {
     "name": "stderr",
     "output_type": "stream",
     "text": [
      "Epochs:  53%|█████▎    | 53/100 [13:57<11:35, 14.79s/it]"
     ]
    },
    {
     "name": "stdout",
     "output_type": "stream",
     "text": [
      "Epoch 53/100 - Training Loss: 0.7130, Training Accuracy: 78.81%, Validation Loss: 2.2951, Validation Accuracy: 46.70%, Time: 15.83s\n"
     ]
    },
    {
     "name": "stderr",
     "output_type": "stream",
     "text": [
      "Epochs:  54%|█████▍    | 54/100 [14:12<11:23, 14.87s/it]"
     ]
    },
    {
     "name": "stdout",
     "output_type": "stream",
     "text": [
      "Epoch 54/100 - Training Loss: 0.6740, Training Accuracy: 80.14%, Validation Loss: 2.3474, Validation Accuracy: 45.34%, Time: 15.06s\n"
     ]
    },
    {
     "name": "stderr",
     "output_type": "stream",
     "text": [
      "Epochs:  55%|█████▌    | 55/100 [14:26<10:58, 14.64s/it]"
     ]
    },
    {
     "name": "stdout",
     "output_type": "stream",
     "text": [
      "Epoch 55/100 - Training Loss: 0.6477, Training Accuracy: 80.57%, Validation Loss: 2.3168, Validation Accuracy: 46.40%, Time: 14.11s\n"
     ]
    },
    {
     "name": "stderr",
     "output_type": "stream",
     "text": [
      "Epochs:  56%|█████▌    | 56/100 [14:40<10:37, 14.48s/it]"
     ]
    },
    {
     "name": "stdout",
     "output_type": "stream",
     "text": [
      "Epoch 56/100 - Training Loss: 0.6272, Training Accuracy: 81.46%, Validation Loss: 2.3317, Validation Accuracy: 46.08%, Time: 14.10s\n"
     ]
    },
    {
     "name": "stderr",
     "output_type": "stream",
     "text": [
      "Epochs:  57%|█████▋    | 57/100 [14:55<10:20, 14.44s/it]"
     ]
    },
    {
     "name": "stdout",
     "output_type": "stream",
     "text": [
      "Epoch 57/100 - Training Loss: 0.5931, Training Accuracy: 82.53%, Validation Loss: 2.3888, Validation Accuracy: 44.84%, Time: 14.34s\n"
     ]
    },
    {
     "name": "stderr",
     "output_type": "stream",
     "text": [
      "Epochs:  58%|█████▊    | 58/100 [15:10<10:14, 14.63s/it]"
     ]
    },
    {
     "name": "stdout",
     "output_type": "stream",
     "text": [
      "Epoch 58/100 - Training Loss: 0.5692, Training Accuracy: 82.76%, Validation Loss: 2.3795, Validation Accuracy: 45.64%, Time: 15.09s\n"
     ]
    },
    {
     "name": "stderr",
     "output_type": "stream",
     "text": [
      "Epochs:  59%|█████▉    | 59/100 [15:24<09:59, 14.61s/it]"
     ]
    },
    {
     "name": "stdout",
     "output_type": "stream",
     "text": [
      "Epoch 59/100 - Training Loss: 0.5453, Training Accuracy: 83.76%, Validation Loss: 2.4283, Validation Accuracy: 45.10%, Time: 14.57s\n"
     ]
    },
    {
     "name": "stderr",
     "output_type": "stream",
     "text": [
      "Epochs:  60%|██████    | 60/100 [15:38<09:39, 14.48s/it]"
     ]
    },
    {
     "name": "stdout",
     "output_type": "stream",
     "text": [
      "Epoch 60/100 - Training Loss: 0.5126, Training Accuracy: 84.92%, Validation Loss: 2.3764, Validation Accuracy: 45.82%, Time: 14.17s\n"
     ]
    },
    {
     "name": "stderr",
     "output_type": "stream",
     "text": [
      "Epochs:  61%|██████    | 61/100 [15:53<09:20, 14.36s/it]"
     ]
    },
    {
     "name": "stdout",
     "output_type": "stream",
     "text": [
      "Epoch 61/100 - Training Loss: 0.4799, Training Accuracy: 85.93%, Validation Loss: 2.4428, Validation Accuracy: 45.86%, Time: 14.09s\n"
     ]
    },
    {
     "name": "stderr",
     "output_type": "stream",
     "text": [
      "Epochs:  62%|██████▏   | 62/100 [16:06<08:51, 13.99s/it]"
     ]
    },
    {
     "name": "stdout",
     "output_type": "stream",
     "text": [
      "Epoch 62/100 - Training Loss: 0.4642, Training Accuracy: 86.21%, Validation Loss: 2.4546, Validation Accuracy: 45.40%, Time: 13.10s\n"
     ]
    },
    {
     "name": "stderr",
     "output_type": "stream",
     "text": [
      "Epochs:  63%|██████▎   | 63/100 [16:21<08:50, 14.34s/it]"
     ]
    },
    {
     "name": "stdout",
     "output_type": "stream",
     "text": [
      "Epoch 63/100 - Training Loss: 0.4547, Training Accuracy: 86.63%, Validation Loss: 2.4814, Validation Accuracy: 45.18%, Time: 15.18s\n"
     ]
    },
    {
     "name": "stderr",
     "output_type": "stream",
     "text": [
      "Epochs:  64%|██████▍   | 64/100 [16:35<08:38, 14.39s/it]"
     ]
    },
    {
     "name": "stdout",
     "output_type": "stream",
     "text": [
      "Epoch 64/100 - Training Loss: 0.4291, Training Accuracy: 87.30%, Validation Loss: 2.4535, Validation Accuracy: 46.38%, Time: 14.50s\n"
     ]
    },
    {
     "name": "stderr",
     "output_type": "stream",
     "text": [
      "Epochs:  65%|██████▌   | 65/100 [16:49<08:19, 14.28s/it]"
     ]
    },
    {
     "name": "stdout",
     "output_type": "stream",
     "text": [
      "Epoch 65/100 - Training Loss: 0.4064, Training Accuracy: 87.87%, Validation Loss: 2.5461, Validation Accuracy: 44.72%, Time: 14.03s\n"
     ]
    },
    {
     "name": "stderr",
     "output_type": "stream",
     "text": [
      "Epochs:  66%|██████▌   | 66/100 [17:04<08:04, 14.26s/it]"
     ]
    },
    {
     "name": "stdout",
     "output_type": "stream",
     "text": [
      "Epoch 66/100 - Training Loss: 0.4014, Training Accuracy: 87.97%, Validation Loss: 2.5307, Validation Accuracy: 45.86%, Time: 14.21s\n"
     ]
    },
    {
     "name": "stderr",
     "output_type": "stream",
     "text": [
      "Epochs:  67%|██████▋   | 67/100 [17:18<07:53, 14.36s/it]"
     ]
    },
    {
     "name": "stdout",
     "output_type": "stream",
     "text": [
      "Epoch 67/100 - Training Loss: 0.3694, Training Accuracy: 89.18%, Validation Loss: 2.4917, Validation Accuracy: 46.72%, Time: 14.59s\n"
     ]
    },
    {
     "name": "stderr",
     "output_type": "stream",
     "text": [
      "Epochs:  68%|██████▊   | 68/100 [17:32<07:39, 14.35s/it]"
     ]
    },
    {
     "name": "stdout",
     "output_type": "stream",
     "text": [
      "Epoch 68/100 - Training Loss: 0.3523, Training Accuracy: 89.59%, Validation Loss: 2.5899, Validation Accuracy: 44.86%, Time: 14.34s\n"
     ]
    },
    {
     "name": "stderr",
     "output_type": "stream",
     "text": [
      "Epochs:  69%|██████▉   | 69/100 [17:47<07:27, 14.44s/it]"
     ]
    },
    {
     "name": "stdout",
     "output_type": "stream",
     "text": [
      "Epoch 69/100 - Training Loss: 0.3438, Training Accuracy: 89.93%, Validation Loss: 2.4686, Validation Accuracy: 46.68%, Time: 14.63s\n"
     ]
    },
    {
     "name": "stderr",
     "output_type": "stream",
     "text": [
      "Epochs:  70%|███████   | 70/100 [18:01<07:11, 14.38s/it]"
     ]
    },
    {
     "name": "stdout",
     "output_type": "stream",
     "text": [
      "Epoch 70/100 - Training Loss: 0.3248, Training Accuracy: 90.47%, Validation Loss: 2.6589, Validation Accuracy: 44.68%, Time: 14.24s\n"
     ]
    },
    {
     "name": "stderr",
     "output_type": "stream",
     "text": [
      "Epochs:  71%|███████   | 71/100 [18:16<06:59, 14.48s/it]"
     ]
    },
    {
     "name": "stdout",
     "output_type": "stream",
     "text": [
      "Epoch 71/100 - Training Loss: 0.3093, Training Accuracy: 90.99%, Validation Loss: 2.5440, Validation Accuracy: 45.70%, Time: 14.70s\n"
     ]
    },
    {
     "name": "stderr",
     "output_type": "stream",
     "text": [
      "Epochs:  72%|███████▏  | 72/100 [18:31<06:49, 14.62s/it]"
     ]
    },
    {
     "name": "stdout",
     "output_type": "stream",
     "text": [
      "Epoch 72/100 - Training Loss: 0.2992, Training Accuracy: 91.32%, Validation Loss: 2.5442, Validation Accuracy: 46.00%, Time: 14.95s\n"
     ]
    },
    {
     "name": "stderr",
     "output_type": "stream",
     "text": [
      "Epochs:  73%|███████▎  | 73/100 [18:46<06:35, 14.63s/it]"
     ]
    },
    {
     "name": "stdout",
     "output_type": "stream",
     "text": [
      "Epoch 73/100 - Training Loss: 0.2858, Training Accuracy: 91.64%, Validation Loss: 2.5468, Validation Accuracy: 45.70%, Time: 14.66s\n"
     ]
    },
    {
     "name": "stderr",
     "output_type": "stream",
     "text": [
      "Epochs:  74%|███████▍  | 74/100 [19:00<06:15, 14.44s/it]"
     ]
    },
    {
     "name": "stdout",
     "output_type": "stream",
     "text": [
      "Epoch 74/100 - Training Loss: 0.2661, Training Accuracy: 92.16%, Validation Loss: 2.5644, Validation Accuracy: 46.02%, Time: 13.99s\n"
     ]
    },
    {
     "name": "stderr",
     "output_type": "stream",
     "text": [
      "Epochs:  75%|███████▌  | 75/100 [19:14<05:59, 14.39s/it]"
     ]
    },
    {
     "name": "stdout",
     "output_type": "stream",
     "text": [
      "Epoch 75/100 - Training Loss: 0.2553, Training Accuracy: 92.63%, Validation Loss: 2.6155, Validation Accuracy: 45.86%, Time: 14.29s\n"
     ]
    },
    {
     "name": "stderr",
     "output_type": "stream",
     "text": [
      "Epochs:  76%|███████▌  | 76/100 [19:29<05:47, 14.46s/it]"
     ]
    },
    {
     "name": "stdout",
     "output_type": "stream",
     "text": [
      "Epoch 76/100 - Training Loss: 0.2408, Training Accuracy: 93.15%, Validation Loss: 2.6089, Validation Accuracy: 46.10%, Time: 14.62s\n"
     ]
    },
    {
     "name": "stderr",
     "output_type": "stream",
     "text": [
      "Epochs:  77%|███████▋  | 77/100 [19:43<05:35, 14.58s/it]"
     ]
    },
    {
     "name": "stdout",
     "output_type": "stream",
     "text": [
      "Epoch 77/100 - Training Loss: 0.2332, Training Accuracy: 93.26%, Validation Loss: 2.6619, Validation Accuracy: 45.76%, Time: 14.86s\n"
     ]
    },
    {
     "name": "stderr",
     "output_type": "stream",
     "text": [
      "Epochs:  78%|███████▊  | 78/100 [19:58<05:20, 14.55s/it]"
     ]
    },
    {
     "name": "stdout",
     "output_type": "stream",
     "text": [
      "Epoch 78/100 - Training Loss: 0.2385, Training Accuracy: 93.00%, Validation Loss: 2.6204, Validation Accuracy: 46.42%, Time: 14.47s\n"
     ]
    },
    {
     "name": "stderr",
     "output_type": "stream",
     "text": [
      "Epochs:  79%|███████▉  | 79/100 [20:13<05:09, 14.72s/it]"
     ]
    },
    {
     "name": "stdout",
     "output_type": "stream",
     "text": [
      "Epoch 79/100 - Training Loss: 0.2324, Training Accuracy: 93.25%, Validation Loss: 2.6262, Validation Accuracy: 46.28%, Time: 15.13s\n"
     ]
    },
    {
     "name": "stderr",
     "output_type": "stream",
     "text": [
      "Epochs:  80%|████████  | 80/100 [20:28<04:58, 14.90s/it]"
     ]
    },
    {
     "name": "stdout",
     "output_type": "stream",
     "text": [
      "Epoch 80/100 - Training Loss: 0.2251, Training Accuracy: 93.48%, Validation Loss: 2.5846, Validation Accuracy: 46.82%, Time: 15.31s\n"
     ]
    },
    {
     "name": "stderr",
     "output_type": "stream",
     "text": [
      "Epochs:  81%|████████  | 81/100 [20:49<05:17, 16.73s/it]"
     ]
    },
    {
     "name": "stdout",
     "output_type": "stream",
     "text": [
      "Epoch 81/100 - Training Loss: 0.2199, Training Accuracy: 93.50%, Validation Loss: 2.6054, Validation Accuracy: 47.06%, Time: 21.00s\n"
     ]
    },
    {
     "name": "stderr",
     "output_type": "stream",
     "text": [
      "Epochs:  82%|████████▏ | 82/100 [21:05<04:55, 16.43s/it]"
     ]
    },
    {
     "name": "stdout",
     "output_type": "stream",
     "text": [
      "Epoch 82/100 - Training Loss: 0.1972, Training Accuracy: 94.49%, Validation Loss: 2.5667, Validation Accuracy: 47.08%, Time: 15.71s\n"
     ]
    },
    {
     "name": "stderr",
     "output_type": "stream",
     "text": [
      "Epochs:  83%|████████▎ | 83/100 [21:23<04:47, 16.90s/it]"
     ]
    },
    {
     "name": "stdout",
     "output_type": "stream",
     "text": [
      "Epoch 83/100 - Training Loss: 0.1982, Training Accuracy: 94.24%, Validation Loss: 2.5826, Validation Accuracy: 47.52%, Time: 17.98s\n"
     ]
    },
    {
     "name": "stderr",
     "output_type": "stream",
     "text": [
      "Epochs:  84%|████████▍ | 84/100 [21:37<04:18, 16.17s/it]"
     ]
    },
    {
     "name": "stdout",
     "output_type": "stream",
     "text": [
      "Epoch 84/100 - Training Loss: 0.1932, Training Accuracy: 94.53%, Validation Loss: 2.6321, Validation Accuracy: 46.10%, Time: 14.46s\n"
     ]
    },
    {
     "name": "stderr",
     "output_type": "stream",
     "text": [
      "Epochs:  85%|████████▌ | 85/100 [21:52<03:53, 15.57s/it]"
     ]
    },
    {
     "name": "stdout",
     "output_type": "stream",
     "text": [
      "Epoch 85/100 - Training Loss: 0.1837, Training Accuracy: 94.75%, Validation Loss: 2.6622, Validation Accuracy: 45.50%, Time: 14.19s\n"
     ]
    },
    {
     "name": "stderr",
     "output_type": "stream",
     "text": [
      "Epochs:  86%|████████▌ | 86/100 [22:06<03:33, 15.27s/it]"
     ]
    },
    {
     "name": "stdout",
     "output_type": "stream",
     "text": [
      "Epoch 86/100 - Training Loss: 0.1864, Training Accuracy: 94.66%, Validation Loss: 2.6189, Validation Accuracy: 47.52%, Time: 14.55s\n"
     ]
    },
    {
     "name": "stderr",
     "output_type": "stream",
     "text": [
      "Epochs:  87%|████████▋ | 87/100 [22:21<03:15, 15.07s/it]"
     ]
    },
    {
     "name": "stdout",
     "output_type": "stream",
     "text": [
      "Epoch 87/100 - Training Loss: 0.1724, Training Accuracy: 95.22%, Validation Loss: 2.6452, Validation Accuracy: 46.02%, Time: 14.59s\n"
     ]
    },
    {
     "name": "stderr",
     "output_type": "stream",
     "text": [
      "Epochs:  88%|████████▊ | 88/100 [22:37<03:03, 15.25s/it]"
     ]
    },
    {
     "name": "stdout",
     "output_type": "stream",
     "text": [
      "Epoch 88/100 - Training Loss: 0.1744, Training Accuracy: 95.06%, Validation Loss: 2.6403, Validation Accuracy: 46.94%, Time: 15.68s\n"
     ]
    },
    {
     "name": "stderr",
     "output_type": "stream",
     "text": [
      "Epochs:  89%|████████▉ | 89/100 [22:51<02:44, 14.96s/it]"
     ]
    },
    {
     "name": "stdout",
     "output_type": "stream",
     "text": [
      "Epoch 89/100 - Training Loss: 0.1696, Training Accuracy: 95.24%, Validation Loss: 2.6318, Validation Accuracy: 47.16%, Time: 14.30s\n"
     ]
    },
    {
     "name": "stderr",
     "output_type": "stream",
     "text": [
      "Epochs:  90%|█████████ | 90/100 [23:04<02:25, 14.50s/it]"
     ]
    },
    {
     "name": "stdout",
     "output_type": "stream",
     "text": [
      "Epoch 90/100 - Training Loss: 0.1690, Training Accuracy: 95.29%, Validation Loss: 2.6699, Validation Accuracy: 46.28%, Time: 13.43s\n"
     ]
    },
    {
     "name": "stderr",
     "output_type": "stream",
     "text": [
      "Epochs:  91%|█████████ | 91/100 [23:19<02:10, 14.51s/it]"
     ]
    },
    {
     "name": "stdout",
     "output_type": "stream",
     "text": [
      "Epoch 91/100 - Training Loss: 0.1610, Training Accuracy: 95.40%, Validation Loss: 2.7338, Validation Accuracy: 46.12%, Time: 14.54s\n"
     ]
    },
    {
     "name": "stderr",
     "output_type": "stream",
     "text": [
      "Epochs:  92%|█████████▏| 92/100 [23:33<01:55, 14.39s/it]"
     ]
    },
    {
     "name": "stdout",
     "output_type": "stream",
     "text": [
      "Epoch 92/100 - Training Loss: 0.1517, Training Accuracy: 95.84%, Validation Loss: 2.6712, Validation Accuracy: 46.72%, Time: 14.11s\n"
     ]
    },
    {
     "name": "stderr",
     "output_type": "stream",
     "text": [
      "Epochs:  93%|█████████▎| 93/100 [23:48<01:41, 14.48s/it]"
     ]
    },
    {
     "name": "stdout",
     "output_type": "stream",
     "text": [
      "Epoch 93/100 - Training Loss: 0.1614, Training Accuracy: 95.49%, Validation Loss: 2.6551, Validation Accuracy: 46.40%, Time: 14.67s\n"
     ]
    },
    {
     "name": "stderr",
     "output_type": "stream",
     "text": [
      "Epochs:  94%|█████████▍| 94/100 [24:01<01:25, 14.28s/it]"
     ]
    },
    {
     "name": "stdout",
     "output_type": "stream",
     "text": [
      "Epoch 94/100 - Training Loss: 0.1564, Training Accuracy: 95.60%, Validation Loss: 2.6527, Validation Accuracy: 46.30%, Time: 13.80s\n"
     ]
    },
    {
     "name": "stderr",
     "output_type": "stream",
     "text": [
      "Epochs:  95%|█████████▌| 95/100 [24:16<01:12, 14.43s/it]"
     ]
    },
    {
     "name": "stdout",
     "output_type": "stream",
     "text": [
      "Epoch 95/100 - Training Loss: 0.1578, Training Accuracy: 95.58%, Validation Loss: 2.7351, Validation Accuracy: 45.76%, Time: 14.79s\n"
     ]
    },
    {
     "name": "stderr",
     "output_type": "stream",
     "text": [
      "Epochs:  96%|█████████▌| 96/100 [24:30<00:57, 14.30s/it]"
     ]
    },
    {
     "name": "stdout",
     "output_type": "stream",
     "text": [
      "Epoch 96/100 - Training Loss: 0.1569, Training Accuracy: 95.64%, Validation Loss: 2.6525, Validation Accuracy: 47.06%, Time: 13.99s\n"
     ]
    },
    {
     "name": "stderr",
     "output_type": "stream",
     "text": [
      "Epochs:  97%|█████████▋| 97/100 [24:44<00:42, 14.31s/it]"
     ]
    },
    {
     "name": "stdout",
     "output_type": "stream",
     "text": [
      "Epoch 97/100 - Training Loss: 0.1542, Training Accuracy: 95.56%, Validation Loss: 2.6807, Validation Accuracy: 46.52%, Time: 14.33s\n"
     ]
    },
    {
     "name": "stderr",
     "output_type": "stream",
     "text": [
      "Epochs:  98%|█████████▊| 98/100 [24:59<00:28, 14.34s/it]"
     ]
    },
    {
     "name": "stdout",
     "output_type": "stream",
     "text": [
      "Epoch 98/100 - Training Loss: 0.1423, Training Accuracy: 96.02%, Validation Loss: 2.7048, Validation Accuracy: 46.22%, Time: 14.43s\n"
     ]
    },
    {
     "name": "stderr",
     "output_type": "stream",
     "text": [
      "Epochs:  99%|█████████▉| 99/100 [25:13<00:14, 14.37s/it]"
     ]
    },
    {
     "name": "stdout",
     "output_type": "stream",
     "text": [
      "Epoch 99/100 - Training Loss: 0.1373, Training Accuracy: 96.19%, Validation Loss: 2.7201, Validation Accuracy: 46.18%, Time: 14.44s\n"
     ]
    },
    {
     "name": "stderr",
     "output_type": "stream",
     "text": [
      "Epochs: 100%|██████████| 100/100 [25:29<00:00, 15.29s/it]\n"
     ]
    },
    {
     "name": "stdout",
     "output_type": "stream",
     "text": [
      "Epoch 100/100 - Training Loss: 0.1360, Training Accuracy: 96.27%, Validation Loss: 2.7126, Validation Accuracy: 46.60%, Time: 15.31s\n"
     ]
    },
    {
     "ename": "NameError",
     "evalue": "name 'csv' is not defined",
     "output_type": "error",
     "traceback": [
      "\u001b[0;31m---------------------------------------------------------------------------\u001b[0m",
      "\u001b[0;31mNameError\u001b[0m                                 Traceback (most recent call last)",
      "\u001b[1;32m/homes/Adam/DL_A2/Benchmark.ipynb 单元格 4\u001b[0m line \u001b[0;36m9\n\u001b[1;32m     <a href='vscode-notebook-cell://ssh-remote%2B7b22686f73744e616d65223a2244617669645f333039305f6c6f63616c227d/homes/Adam/DL_A2/Benchmark.ipynb#W3sdnNjb2RlLXJlbW90ZQ%3D%3D?line=95'>96</a>\u001b[0m csv_filename \u001b[39m=\u001b[39m \u001b[39m\"\u001b[39m\u001b[39mresults.csv\u001b[39m\u001b[39m\"\u001b[39m\n\u001b[1;32m     <a href='vscode-notebook-cell://ssh-remote%2B7b22686f73744e616d65223a2244617669645f333039305f6c6f63616c227d/homes/Adam/DL_A2/Benchmark.ipynb#W3sdnNjb2RlLXJlbW90ZQ%3D%3D?line=96'>97</a>\u001b[0m \u001b[39mwith\u001b[39;00m \u001b[39mopen\u001b[39m(csv_filename, mode\u001b[39m=\u001b[39m\u001b[39m'\u001b[39m\u001b[39mw\u001b[39m\u001b[39m'\u001b[39m, newline\u001b[39m=\u001b[39m\u001b[39m'\u001b[39m\u001b[39m'\u001b[39m) \u001b[39mas\u001b[39;00m file:\n\u001b[0;32m---> <a href='vscode-notebook-cell://ssh-remote%2B7b22686f73744e616d65223a2244617669645f333039305f6c6f63616c227d/homes/Adam/DL_A2/Benchmark.ipynb#W3sdnNjb2RlLXJlbW90ZQ%3D%3D?line=97'>98</a>\u001b[0m     writer \u001b[39m=\u001b[39m csv\u001b[39m.\u001b[39mwriter(file)\n\u001b[1;32m    <a href='vscode-notebook-cell://ssh-remote%2B7b22686f73744e616d65223a2244617669645f333039305f6c6f63616c227d/homes/Adam/DL_A2/Benchmark.ipynb#W3sdnNjb2RlLXJlbW90ZQ%3D%3D?line=99'>100</a>\u001b[0m     \u001b[39m# Write header\u001b[39;00m\n\u001b[1;32m    <a href='vscode-notebook-cell://ssh-remote%2B7b22686f73744e616d65223a2244617669645f333039305f6c6f63616c227d/homes/Adam/DL_A2/Benchmark.ipynb#W3sdnNjb2RlLXJlbW90ZQ%3D%3D?line=100'>101</a>\u001b[0m     header \u001b[39m=\u001b[39m [\u001b[39m'\u001b[39m\u001b[39mModel Name\u001b[39m\u001b[39m'\u001b[39m, \u001b[39m'\u001b[39m\u001b[39mBest Accuracy\u001b[39m\u001b[39m'\u001b[39m, \u001b[39m'\u001b[39m\u001b[39mModel Parameters\u001b[39m\u001b[39m'\u001b[39m, \u001b[39m'\u001b[39m\u001b[39mTraining Loss Stability\u001b[39m\u001b[39m'\u001b[39m]\n",
      "\u001b[0;31mNameError\u001b[0m: name 'csv' is not defined"
     ]
    }
   ],
   "source": [
    "\n",
    "num_epochs = 1\n",
    "results = {}\n",
    "model_save_path = \"best_model_weights\"  # Directory to save the best model weights\n",
    "\n",
    "if not os.path.exists(model_save_path):\n",
    "    os.makedirs(model_save_path)\n",
    "\n",
    "for name, model in models.items():\n",
    "    print(f\"Training {name}...\")\n",
    "    optimizer = optimizers[name]\n",
    "    best_accuracy = 0.0\n",
    "    train_losses = []\n",
    "    val_losses = []\n",
    "    train_accuracies = []\n",
    "    val_accuracies = []\n",
    "    epoch_times = []\n",
    "    \n",
    "    # Model Size and Complexity\n",
    "    total_params = sum(p.numel() for p in model.parameters())\n",
    "    \n",
    "    for epoch in tqdm(range(num_epochs), desc=\"Epochs\"):\n",
    "        start_time = time.time()\n",
    "        \n",
    "        # Training phase\n",
    "        model.train()\n",
    "        running_loss = 0.0\n",
    "        correct_train = 0\n",
    "        total_train = 0\n",
    "        \n",
    "        for i, (inputs, labels) in enumerate(tqdm(trainloader, desc=\"Training\", leave=False)):\n",
    "            inputs, labels = inputs.to(device), labels.to(device)\n",
    "            optimizer.zero_grad()\n",
    "            outputs = model(inputs)\n",
    "            loss = criterion(outputs, labels)\n",
    "            loss.backward()\n",
    "            optimizer.step()\n",
    "            running_loss += loss.item()\n",
    "\n",
    "            _, predicted_train = outputs.max(1)\n",
    "            total_train += labels.size(0)\n",
    "            correct_train += predicted_train.eq(labels).sum().item()\n",
    "        \n",
    "        avg_train_loss = running_loss / len(trainloader)\n",
    "        train_losses.append(avg_train_loss)\n",
    "        train_accuracy = 100 * correct_train / total_train\n",
    "        train_accuracies.append(train_accuracy)\n",
    "        \n",
    "        # Validation phase\n",
    "        model.eval()\n",
    "        correct = 0\n",
    "        total = 0\n",
    "        running_val_loss = 0.0\n",
    "        \n",
    "        with torch.no_grad():\n",
    "            for data in tqdm(valloader, desc=\"Validation\", leave=False):\n",
    "                images, labels = data[0].to(device), data[1].to(device)\n",
    "                outputs = model(images)\n",
    "                val_loss = criterion(outputs, labels)\n",
    "                running_val_loss += val_loss.item()\n",
    "                \n",
    "                _, predicted = outputs.max(1)\n",
    "                total += labels.size(0)\n",
    "                correct += predicted.eq(labels).sum().item()\n",
    "        \n",
    "        avg_val_loss = running_val_loss / len(valloader)\n",
    "        val_losses.append(avg_val_loss)\n",
    "        \n",
    "        accuracy = 100 * correct / total\n",
    "        val_accuracies.append(accuracy)\n",
    "        \n",
    "        # Save the model weights if this epoch gives the highest validation accuracy\n",
    "        if accuracy > best_accuracy:\n",
    "            best_accuracy = accuracy\n",
    "            torch.save(model.state_dict(), os.path.join(model_save_path, f\"{name}_best_weights.pth\"))\n",
    "        \n",
    "        end_time = time.time()\n",
    "        epoch_duration = end_time - start_time\n",
    "        epoch_times.append(epoch_duration)\n",
    "        \n",
    "        print(f\"Epoch {epoch+1}/{num_epochs} - Training Loss: {avg_train_loss:.4f}, Training Accuracy: {train_accuracy:.2f}%, Validation Loss: {avg_val_loss:.4f}, Validation Accuracy: {accuracy:.2f}%, Time: {epoch_duration:.2f}s\")\n",
    "    \n",
    "    train_loss_stability = np.std(train_losses)\n",
    "    \n",
    "    results[name] = {\n",
    "        \"Best Accuracy\": best_accuracy,\n",
    "        \"Training Losses\": train_losses,\n",
    "        \"Training Accuracies\": train_accuracies,\n",
    "        \"Validation Losses\": val_losses,\n",
    "        \"Validation Accuracies\": val_accuracies,\n",
    "        \"Epoch Times\": epoch_times,\n",
    "        \"Model Parameters\": total_params,\n",
    "        \"Training Loss Stability\": train_loss_stability\n",
    "    }\n",
    "\n",
    "\n",
    "csv_filename = \"results.csv\"\n",
    "with open(csv_filename, mode='w', newline='') as file:\n",
    "    writer = csv.writer(file)\n",
    "    \n",
    "    # Write header\n",
    "    header = ['Model Name', 'Best Accuracy', 'Model Parameters', 'Training Loss Stability']\n",
    "    for i in range(num_epochs):\n",
    "        header.extend([f'Training Loss (Epoch {i+1})', f'Training Accuracy (Epoch {i+1})', f'Validation Loss (Epoch {i+1})', f'Validation Accuracy (Epoch {i+1})', f'Epoch Time (Epoch {i+1})'])\n",
    "    writer.writerow(header)\n",
    "    \n",
    "    # Write model results\n",
    "    for name, metrics in results.items():\n",
    "        row = [name, metrics['Best Accuracy'], metrics['Model Parameters'], metrics['Training Loss Stability']]\n",
    "        for i in range(num_epochs):\n",
    "            row.extend([metrics['Training Losses'][i], metrics['Training Accuracies'][i], metrics['Validation Losses'][i], metrics['Validation Accuracies'][i], metrics['Epoch Times'][i]])\n",
    "        writer.writerow(row)\n",
    "\n",
    "print(f\"Results saved to {csv_filename}\")"
   ]
  },
  {
   "cell_type": "code",
   "execution_count": null,
   "metadata": {},
   "outputs": [],
   "source": []
  },
  {
   "cell_type": "code",
   "execution_count": null,
   "metadata": {},
   "outputs": [],
   "source": []
  },
  {
   "cell_type": "code",
   "execution_count": null,
   "metadata": {},
   "outputs": [],
   "source": []
  },
  {
   "cell_type": "code",
   "execution_count": 4,
   "metadata": {},
   "outputs": [
    {
     "name": "stdout",
     "output_type": "stream",
     "text": [
      "Training InceptionV4...\n"
     ]
    },
    {
     "name": "stderr",
     "output_type": "stream",
     "text": [
      "Epochs:   0%|          | 0/100 [00:03<?, ?it/s]\n"
     ]
    },
    {
     "ename": "RuntimeError",
     "evalue": "Calculated padded input size per channel: (1 x 1). Kernel size: (3 x 3). Kernel size can't be greater than actual input size",
     "output_type": "error",
     "traceback": [
      "\u001b[0;31m---------------------------------------------------------------------------\u001b[0m",
      "\u001b[0;31mRuntimeError\u001b[0m                              Traceback (most recent call last)",
      "\u001b[1;32m/homes/Adam/DL_A2/Benchmark.ipynb 单元格 4\u001b[0m line \u001b[0;36m2\n\u001b[1;32m     <a href='vscode-notebook-cell://ssh-remote%2B7b22686f73744e616d65223a2244617669645f33303930227d/homes/Adam/DL_A2/Benchmark.ipynb#W3sdnNjb2RlLXJlbW90ZQ%3D%3D?line=18'>19</a>\u001b[0m inputs, labels \u001b[39m=\u001b[39m inputs\u001b[39m.\u001b[39mto(device), labels\u001b[39m.\u001b[39mto(device)\n\u001b[1;32m     <a href='vscode-notebook-cell://ssh-remote%2B7b22686f73744e616d65223a2244617669645f33303930227d/homes/Adam/DL_A2/Benchmark.ipynb#W3sdnNjb2RlLXJlbW90ZQ%3D%3D?line=19'>20</a>\u001b[0m optimizer\u001b[39m.\u001b[39mzero_grad()\n\u001b[0;32m---> <a href='vscode-notebook-cell://ssh-remote%2B7b22686f73744e616d65223a2244617669645f33303930227d/homes/Adam/DL_A2/Benchmark.ipynb#W3sdnNjb2RlLXJlbW90ZQ%3D%3D?line=20'>21</a>\u001b[0m outputs \u001b[39m=\u001b[39m model(inputs)\n\u001b[1;32m     <a href='vscode-notebook-cell://ssh-remote%2B7b22686f73744e616d65223a2244617669645f33303930227d/homes/Adam/DL_A2/Benchmark.ipynb#W3sdnNjb2RlLXJlbW90ZQ%3D%3D?line=21'>22</a>\u001b[0m loss \u001b[39m=\u001b[39m criterion(outputs, labels)\n\u001b[1;32m     <a href='vscode-notebook-cell://ssh-remote%2B7b22686f73744e616d65223a2244617669645f33303930227d/homes/Adam/DL_A2/Benchmark.ipynb#W3sdnNjb2RlLXJlbW90ZQ%3D%3D?line=22'>23</a>\u001b[0m loss\u001b[39m.\u001b[39mbackward()\n",
      "File \u001b[0;32m/opt/anaconda/anaconda3/envs/pytorch_gpu/lib/python3.11/site-packages/torch/nn/modules/module.py:1518\u001b[0m, in \u001b[0;36mModule._wrapped_call_impl\u001b[0;34m(self, *args, **kwargs)\u001b[0m\n\u001b[1;32m   1516\u001b[0m     \u001b[39mreturn\u001b[39;00m \u001b[39mself\u001b[39m\u001b[39m.\u001b[39m_compiled_call_impl(\u001b[39m*\u001b[39margs, \u001b[39m*\u001b[39m\u001b[39m*\u001b[39mkwargs)  \u001b[39m# type: ignore[misc]\u001b[39;00m\n\u001b[1;32m   1517\u001b[0m \u001b[39melse\u001b[39;00m:\n\u001b[0;32m-> 1518\u001b[0m     \u001b[39mreturn\u001b[39;00m \u001b[39mself\u001b[39;49m\u001b[39m.\u001b[39;49m_call_impl(\u001b[39m*\u001b[39;49margs, \u001b[39m*\u001b[39;49m\u001b[39m*\u001b[39;49mkwargs)\n",
      "File \u001b[0;32m/opt/anaconda/anaconda3/envs/pytorch_gpu/lib/python3.11/site-packages/torch/nn/modules/module.py:1527\u001b[0m, in \u001b[0;36mModule._call_impl\u001b[0;34m(self, *args, **kwargs)\u001b[0m\n\u001b[1;32m   1522\u001b[0m \u001b[39m# If we don't have any hooks, we want to skip the rest of the logic in\u001b[39;00m\n\u001b[1;32m   1523\u001b[0m \u001b[39m# this function, and just call forward.\u001b[39;00m\n\u001b[1;32m   1524\u001b[0m \u001b[39mif\u001b[39;00m \u001b[39mnot\u001b[39;00m (\u001b[39mself\u001b[39m\u001b[39m.\u001b[39m_backward_hooks \u001b[39mor\u001b[39;00m \u001b[39mself\u001b[39m\u001b[39m.\u001b[39m_backward_pre_hooks \u001b[39mor\u001b[39;00m \u001b[39mself\u001b[39m\u001b[39m.\u001b[39m_forward_hooks \u001b[39mor\u001b[39;00m \u001b[39mself\u001b[39m\u001b[39m.\u001b[39m_forward_pre_hooks\n\u001b[1;32m   1525\u001b[0m         \u001b[39mor\u001b[39;00m _global_backward_pre_hooks \u001b[39mor\u001b[39;00m _global_backward_hooks\n\u001b[1;32m   1526\u001b[0m         \u001b[39mor\u001b[39;00m _global_forward_hooks \u001b[39mor\u001b[39;00m _global_forward_pre_hooks):\n\u001b[0;32m-> 1527\u001b[0m     \u001b[39mreturn\u001b[39;00m forward_call(\u001b[39m*\u001b[39;49margs, \u001b[39m*\u001b[39;49m\u001b[39m*\u001b[39;49mkwargs)\n\u001b[1;32m   1529\u001b[0m \u001b[39mtry\u001b[39;00m:\n\u001b[1;32m   1530\u001b[0m     result \u001b[39m=\u001b[39m \u001b[39mNone\u001b[39;00m\n",
      "File \u001b[0;32m/opt/anaconda/anaconda3/envs/pytorch_gpu/lib/python3.11/site-packages/timm/models/inception_v4.py:297\u001b[0m, in \u001b[0;36mInceptionV4.forward\u001b[0;34m(self, x)\u001b[0m\n\u001b[1;32m    296\u001b[0m \u001b[39mdef\u001b[39;00m \u001b[39mforward\u001b[39m(\u001b[39mself\u001b[39m, x):\n\u001b[0;32m--> 297\u001b[0m     x \u001b[39m=\u001b[39m \u001b[39mself\u001b[39;49m\u001b[39m.\u001b[39;49mforward_features(x)\n\u001b[1;32m    298\u001b[0m     x \u001b[39m=\u001b[39m \u001b[39mself\u001b[39m\u001b[39m.\u001b[39mforward_head(x)\n\u001b[1;32m    299\u001b[0m     \u001b[39mreturn\u001b[39;00m x\n",
      "File \u001b[0;32m/opt/anaconda/anaconda3/envs/pytorch_gpu/lib/python3.11/site-packages/timm/models/inception_v4.py:289\u001b[0m, in \u001b[0;36mInceptionV4.forward_features\u001b[0;34m(self, x)\u001b[0m\n\u001b[1;32m    288\u001b[0m \u001b[39mdef\u001b[39;00m \u001b[39mforward_features\u001b[39m(\u001b[39mself\u001b[39m, x):\n\u001b[0;32m--> 289\u001b[0m     \u001b[39mreturn\u001b[39;00m \u001b[39mself\u001b[39;49m\u001b[39m.\u001b[39;49mfeatures(x)\n",
      "File \u001b[0;32m/opt/anaconda/anaconda3/envs/pytorch_gpu/lib/python3.11/site-packages/torch/nn/modules/module.py:1518\u001b[0m, in \u001b[0;36mModule._wrapped_call_impl\u001b[0;34m(self, *args, **kwargs)\u001b[0m\n\u001b[1;32m   1516\u001b[0m     \u001b[39mreturn\u001b[39;00m \u001b[39mself\u001b[39m\u001b[39m.\u001b[39m_compiled_call_impl(\u001b[39m*\u001b[39margs, \u001b[39m*\u001b[39m\u001b[39m*\u001b[39mkwargs)  \u001b[39m# type: ignore[misc]\u001b[39;00m\n\u001b[1;32m   1517\u001b[0m \u001b[39melse\u001b[39;00m:\n\u001b[0;32m-> 1518\u001b[0m     \u001b[39mreturn\u001b[39;00m \u001b[39mself\u001b[39;49m\u001b[39m.\u001b[39;49m_call_impl(\u001b[39m*\u001b[39;49margs, \u001b[39m*\u001b[39;49m\u001b[39m*\u001b[39;49mkwargs)\n",
      "File \u001b[0;32m/opt/anaconda/anaconda3/envs/pytorch_gpu/lib/python3.11/site-packages/torch/nn/modules/module.py:1527\u001b[0m, in \u001b[0;36mModule._call_impl\u001b[0;34m(self, *args, **kwargs)\u001b[0m\n\u001b[1;32m   1522\u001b[0m \u001b[39m# If we don't have any hooks, we want to skip the rest of the logic in\u001b[39;00m\n\u001b[1;32m   1523\u001b[0m \u001b[39m# this function, and just call forward.\u001b[39;00m\n\u001b[1;32m   1524\u001b[0m \u001b[39mif\u001b[39;00m \u001b[39mnot\u001b[39;00m (\u001b[39mself\u001b[39m\u001b[39m.\u001b[39m_backward_hooks \u001b[39mor\u001b[39;00m \u001b[39mself\u001b[39m\u001b[39m.\u001b[39m_backward_pre_hooks \u001b[39mor\u001b[39;00m \u001b[39mself\u001b[39m\u001b[39m.\u001b[39m_forward_hooks \u001b[39mor\u001b[39;00m \u001b[39mself\u001b[39m\u001b[39m.\u001b[39m_forward_pre_hooks\n\u001b[1;32m   1525\u001b[0m         \u001b[39mor\u001b[39;00m _global_backward_pre_hooks \u001b[39mor\u001b[39;00m _global_backward_hooks\n\u001b[1;32m   1526\u001b[0m         \u001b[39mor\u001b[39;00m _global_forward_hooks \u001b[39mor\u001b[39;00m _global_forward_pre_hooks):\n\u001b[0;32m-> 1527\u001b[0m     \u001b[39mreturn\u001b[39;00m forward_call(\u001b[39m*\u001b[39;49margs, \u001b[39m*\u001b[39;49m\u001b[39m*\u001b[39;49mkwargs)\n\u001b[1;32m   1529\u001b[0m \u001b[39mtry\u001b[39;00m:\n\u001b[1;32m   1530\u001b[0m     result \u001b[39m=\u001b[39m \u001b[39mNone\u001b[39;00m\n",
      "File \u001b[0;32m/opt/anaconda/anaconda3/envs/pytorch_gpu/lib/python3.11/site-packages/torch/nn/modules/container.py:215\u001b[0m, in \u001b[0;36mSequential.forward\u001b[0;34m(self, input)\u001b[0m\n\u001b[1;32m    213\u001b[0m \u001b[39mdef\u001b[39;00m \u001b[39mforward\u001b[39m(\u001b[39mself\u001b[39m, \u001b[39minput\u001b[39m):\n\u001b[1;32m    214\u001b[0m     \u001b[39mfor\u001b[39;00m module \u001b[39min\u001b[39;00m \u001b[39mself\u001b[39m:\n\u001b[0;32m--> 215\u001b[0m         \u001b[39minput\u001b[39m \u001b[39m=\u001b[39m module(\u001b[39minput\u001b[39;49m)\n\u001b[1;32m    216\u001b[0m     \u001b[39mreturn\u001b[39;00m \u001b[39minput\u001b[39m\n",
      "File \u001b[0;32m/opt/anaconda/anaconda3/envs/pytorch_gpu/lib/python3.11/site-packages/torch/nn/modules/module.py:1518\u001b[0m, in \u001b[0;36mModule._wrapped_call_impl\u001b[0;34m(self, *args, **kwargs)\u001b[0m\n\u001b[1;32m   1516\u001b[0m     \u001b[39mreturn\u001b[39;00m \u001b[39mself\u001b[39m\u001b[39m.\u001b[39m_compiled_call_impl(\u001b[39m*\u001b[39margs, \u001b[39m*\u001b[39m\u001b[39m*\u001b[39mkwargs)  \u001b[39m# type: ignore[misc]\u001b[39;00m\n\u001b[1;32m   1517\u001b[0m \u001b[39melse\u001b[39;00m:\n\u001b[0;32m-> 1518\u001b[0m     \u001b[39mreturn\u001b[39;00m \u001b[39mself\u001b[39;49m\u001b[39m.\u001b[39;49m_call_impl(\u001b[39m*\u001b[39;49margs, \u001b[39m*\u001b[39;49m\u001b[39m*\u001b[39;49mkwargs)\n",
      "File \u001b[0;32m/opt/anaconda/anaconda3/envs/pytorch_gpu/lib/python3.11/site-packages/torch/nn/modules/module.py:1527\u001b[0m, in \u001b[0;36mModule._call_impl\u001b[0;34m(self, *args, **kwargs)\u001b[0m\n\u001b[1;32m   1522\u001b[0m \u001b[39m# If we don't have any hooks, we want to skip the rest of the logic in\u001b[39;00m\n\u001b[1;32m   1523\u001b[0m \u001b[39m# this function, and just call forward.\u001b[39;00m\n\u001b[1;32m   1524\u001b[0m \u001b[39mif\u001b[39;00m \u001b[39mnot\u001b[39;00m (\u001b[39mself\u001b[39m\u001b[39m.\u001b[39m_backward_hooks \u001b[39mor\u001b[39;00m \u001b[39mself\u001b[39m\u001b[39m.\u001b[39m_backward_pre_hooks \u001b[39mor\u001b[39;00m \u001b[39mself\u001b[39m\u001b[39m.\u001b[39m_forward_hooks \u001b[39mor\u001b[39;00m \u001b[39mself\u001b[39m\u001b[39m.\u001b[39m_forward_pre_hooks\n\u001b[1;32m   1525\u001b[0m         \u001b[39mor\u001b[39;00m _global_backward_pre_hooks \u001b[39mor\u001b[39;00m _global_backward_hooks\n\u001b[1;32m   1526\u001b[0m         \u001b[39mor\u001b[39;00m _global_forward_hooks \u001b[39mor\u001b[39;00m _global_forward_pre_hooks):\n\u001b[0;32m-> 1527\u001b[0m     \u001b[39mreturn\u001b[39;00m forward_call(\u001b[39m*\u001b[39;49margs, \u001b[39m*\u001b[39;49m\u001b[39m*\u001b[39;49mkwargs)\n\u001b[1;32m   1529\u001b[0m \u001b[39mtry\u001b[39;00m:\n\u001b[1;32m   1530\u001b[0m     result \u001b[39m=\u001b[39m \u001b[39mNone\u001b[39;00m\n",
      "File \u001b[0;32m/opt/anaconda/anaconda3/envs/pytorch_gpu/lib/python3.11/site-packages/timm/models/inception_v4.py:111\u001b[0m, in \u001b[0;36mReductionA.forward\u001b[0;34m(self, x)\u001b[0m\n\u001b[1;32m    110\u001b[0m \u001b[39mdef\u001b[39;00m \u001b[39mforward\u001b[39m(\u001b[39mself\u001b[39m, x):\n\u001b[0;32m--> 111\u001b[0m     x0 \u001b[39m=\u001b[39m \u001b[39mself\u001b[39;49m\u001b[39m.\u001b[39;49mbranch0(x)\n\u001b[1;32m    112\u001b[0m     x1 \u001b[39m=\u001b[39m \u001b[39mself\u001b[39m\u001b[39m.\u001b[39mbranch1(x)\n\u001b[1;32m    113\u001b[0m     x2 \u001b[39m=\u001b[39m \u001b[39mself\u001b[39m\u001b[39m.\u001b[39mbranch2(x)\n",
      "File \u001b[0;32m/opt/anaconda/anaconda3/envs/pytorch_gpu/lib/python3.11/site-packages/torch/nn/modules/module.py:1518\u001b[0m, in \u001b[0;36mModule._wrapped_call_impl\u001b[0;34m(self, *args, **kwargs)\u001b[0m\n\u001b[1;32m   1516\u001b[0m     \u001b[39mreturn\u001b[39;00m \u001b[39mself\u001b[39m\u001b[39m.\u001b[39m_compiled_call_impl(\u001b[39m*\u001b[39margs, \u001b[39m*\u001b[39m\u001b[39m*\u001b[39mkwargs)  \u001b[39m# type: ignore[misc]\u001b[39;00m\n\u001b[1;32m   1517\u001b[0m \u001b[39melse\u001b[39;00m:\n\u001b[0;32m-> 1518\u001b[0m     \u001b[39mreturn\u001b[39;00m \u001b[39mself\u001b[39;49m\u001b[39m.\u001b[39;49m_call_impl(\u001b[39m*\u001b[39;49margs, \u001b[39m*\u001b[39;49m\u001b[39m*\u001b[39;49mkwargs)\n",
      "File \u001b[0;32m/opt/anaconda/anaconda3/envs/pytorch_gpu/lib/python3.11/site-packages/torch/nn/modules/module.py:1527\u001b[0m, in \u001b[0;36mModule._call_impl\u001b[0;34m(self, *args, **kwargs)\u001b[0m\n\u001b[1;32m   1522\u001b[0m \u001b[39m# If we don't have any hooks, we want to skip the rest of the logic in\u001b[39;00m\n\u001b[1;32m   1523\u001b[0m \u001b[39m# this function, and just call forward.\u001b[39;00m\n\u001b[1;32m   1524\u001b[0m \u001b[39mif\u001b[39;00m \u001b[39mnot\u001b[39;00m (\u001b[39mself\u001b[39m\u001b[39m.\u001b[39m_backward_hooks \u001b[39mor\u001b[39;00m \u001b[39mself\u001b[39m\u001b[39m.\u001b[39m_backward_pre_hooks \u001b[39mor\u001b[39;00m \u001b[39mself\u001b[39m\u001b[39m.\u001b[39m_forward_hooks \u001b[39mor\u001b[39;00m \u001b[39mself\u001b[39m\u001b[39m.\u001b[39m_forward_pre_hooks\n\u001b[1;32m   1525\u001b[0m         \u001b[39mor\u001b[39;00m _global_backward_pre_hooks \u001b[39mor\u001b[39;00m _global_backward_hooks\n\u001b[1;32m   1526\u001b[0m         \u001b[39mor\u001b[39;00m _global_forward_hooks \u001b[39mor\u001b[39;00m _global_forward_pre_hooks):\n\u001b[0;32m-> 1527\u001b[0m     \u001b[39mreturn\u001b[39;00m forward_call(\u001b[39m*\u001b[39;49margs, \u001b[39m*\u001b[39;49m\u001b[39m*\u001b[39;49mkwargs)\n\u001b[1;32m   1529\u001b[0m \u001b[39mtry\u001b[39;00m:\n\u001b[1;32m   1530\u001b[0m     result \u001b[39m=\u001b[39m \u001b[39mNone\u001b[39;00m\n",
      "File \u001b[0;32m/opt/anaconda/anaconda3/envs/pytorch_gpu/lib/python3.11/site-packages/timm/layers/conv_bn_act.py:59\u001b[0m, in \u001b[0;36mConvNormAct.forward\u001b[0;34m(self, x)\u001b[0m\n\u001b[1;32m     58\u001b[0m \u001b[39mdef\u001b[39;00m \u001b[39mforward\u001b[39m(\u001b[39mself\u001b[39m, x):\n\u001b[0;32m---> 59\u001b[0m     x \u001b[39m=\u001b[39m \u001b[39mself\u001b[39;49m\u001b[39m.\u001b[39;49mconv(x)\n\u001b[1;32m     60\u001b[0m     x \u001b[39m=\u001b[39m \u001b[39mself\u001b[39m\u001b[39m.\u001b[39mbn(x)\n\u001b[1;32m     61\u001b[0m     \u001b[39mreturn\u001b[39;00m x\n",
      "File \u001b[0;32m/opt/anaconda/anaconda3/envs/pytorch_gpu/lib/python3.11/site-packages/torch/nn/modules/module.py:1518\u001b[0m, in \u001b[0;36mModule._wrapped_call_impl\u001b[0;34m(self, *args, **kwargs)\u001b[0m\n\u001b[1;32m   1516\u001b[0m     \u001b[39mreturn\u001b[39;00m \u001b[39mself\u001b[39m\u001b[39m.\u001b[39m_compiled_call_impl(\u001b[39m*\u001b[39margs, \u001b[39m*\u001b[39m\u001b[39m*\u001b[39mkwargs)  \u001b[39m# type: ignore[misc]\u001b[39;00m\n\u001b[1;32m   1517\u001b[0m \u001b[39melse\u001b[39;00m:\n\u001b[0;32m-> 1518\u001b[0m     \u001b[39mreturn\u001b[39;00m \u001b[39mself\u001b[39;49m\u001b[39m.\u001b[39;49m_call_impl(\u001b[39m*\u001b[39;49margs, \u001b[39m*\u001b[39;49m\u001b[39m*\u001b[39;49mkwargs)\n",
      "File \u001b[0;32m/opt/anaconda/anaconda3/envs/pytorch_gpu/lib/python3.11/site-packages/torch/nn/modules/module.py:1527\u001b[0m, in \u001b[0;36mModule._call_impl\u001b[0;34m(self, *args, **kwargs)\u001b[0m\n\u001b[1;32m   1522\u001b[0m \u001b[39m# If we don't have any hooks, we want to skip the rest of the logic in\u001b[39;00m\n\u001b[1;32m   1523\u001b[0m \u001b[39m# this function, and just call forward.\u001b[39;00m\n\u001b[1;32m   1524\u001b[0m \u001b[39mif\u001b[39;00m \u001b[39mnot\u001b[39;00m (\u001b[39mself\u001b[39m\u001b[39m.\u001b[39m_backward_hooks \u001b[39mor\u001b[39;00m \u001b[39mself\u001b[39m\u001b[39m.\u001b[39m_backward_pre_hooks \u001b[39mor\u001b[39;00m \u001b[39mself\u001b[39m\u001b[39m.\u001b[39m_forward_hooks \u001b[39mor\u001b[39;00m \u001b[39mself\u001b[39m\u001b[39m.\u001b[39m_forward_pre_hooks\n\u001b[1;32m   1525\u001b[0m         \u001b[39mor\u001b[39;00m _global_backward_pre_hooks \u001b[39mor\u001b[39;00m _global_backward_hooks\n\u001b[1;32m   1526\u001b[0m         \u001b[39mor\u001b[39;00m _global_forward_hooks \u001b[39mor\u001b[39;00m _global_forward_pre_hooks):\n\u001b[0;32m-> 1527\u001b[0m     \u001b[39mreturn\u001b[39;00m forward_call(\u001b[39m*\u001b[39;49margs, \u001b[39m*\u001b[39;49m\u001b[39m*\u001b[39;49mkwargs)\n\u001b[1;32m   1529\u001b[0m \u001b[39mtry\u001b[39;00m:\n\u001b[1;32m   1530\u001b[0m     result \u001b[39m=\u001b[39m \u001b[39mNone\u001b[39;00m\n",
      "File \u001b[0;32m/opt/anaconda/anaconda3/envs/pytorch_gpu/lib/python3.11/site-packages/torch/nn/modules/conv.py:460\u001b[0m, in \u001b[0;36mConv2d.forward\u001b[0;34m(self, input)\u001b[0m\n\u001b[1;32m    459\u001b[0m \u001b[39mdef\u001b[39;00m \u001b[39mforward\u001b[39m(\u001b[39mself\u001b[39m, \u001b[39minput\u001b[39m: Tensor) \u001b[39m-\u001b[39m\u001b[39m>\u001b[39m Tensor:\n\u001b[0;32m--> 460\u001b[0m     \u001b[39mreturn\u001b[39;00m \u001b[39mself\u001b[39;49m\u001b[39m.\u001b[39;49m_conv_forward(\u001b[39minput\u001b[39;49m, \u001b[39mself\u001b[39;49m\u001b[39m.\u001b[39;49mweight, \u001b[39mself\u001b[39;49m\u001b[39m.\u001b[39;49mbias)\n",
      "File \u001b[0;32m/opt/anaconda/anaconda3/envs/pytorch_gpu/lib/python3.11/site-packages/torch/nn/modules/conv.py:456\u001b[0m, in \u001b[0;36mConv2d._conv_forward\u001b[0;34m(self, input, weight, bias)\u001b[0m\n\u001b[1;32m    452\u001b[0m \u001b[39mif\u001b[39;00m \u001b[39mself\u001b[39m\u001b[39m.\u001b[39mpadding_mode \u001b[39m!=\u001b[39m \u001b[39m'\u001b[39m\u001b[39mzeros\u001b[39m\u001b[39m'\u001b[39m:\n\u001b[1;32m    453\u001b[0m     \u001b[39mreturn\u001b[39;00m F\u001b[39m.\u001b[39mconv2d(F\u001b[39m.\u001b[39mpad(\u001b[39minput\u001b[39m, \u001b[39mself\u001b[39m\u001b[39m.\u001b[39m_reversed_padding_repeated_twice, mode\u001b[39m=\u001b[39m\u001b[39mself\u001b[39m\u001b[39m.\u001b[39mpadding_mode),\n\u001b[1;32m    454\u001b[0m                     weight, bias, \u001b[39mself\u001b[39m\u001b[39m.\u001b[39mstride,\n\u001b[1;32m    455\u001b[0m                     _pair(\u001b[39m0\u001b[39m), \u001b[39mself\u001b[39m\u001b[39m.\u001b[39mdilation, \u001b[39mself\u001b[39m\u001b[39m.\u001b[39mgroups)\n\u001b[0;32m--> 456\u001b[0m \u001b[39mreturn\u001b[39;00m F\u001b[39m.\u001b[39;49mconv2d(\u001b[39minput\u001b[39;49m, weight, bias, \u001b[39mself\u001b[39;49m\u001b[39m.\u001b[39;49mstride,\n\u001b[1;32m    457\u001b[0m                 \u001b[39mself\u001b[39;49m\u001b[39m.\u001b[39;49mpadding, \u001b[39mself\u001b[39;49m\u001b[39m.\u001b[39;49mdilation, \u001b[39mself\u001b[39;49m\u001b[39m.\u001b[39;49mgroups)\n",
      "\u001b[0;31mRuntimeError\u001b[0m: Calculated padded input size per channel: (1 x 1). Kernel size: (3 x 3). Kernel size can't be greater than actual input size"
     ]
    }
   ],
   "source": [
    "num_epochs = 100\n",
    "results = {}\n",
    "\n",
    "for name, model in models.items():\n",
    "    print(f\"Training {name}...\")\n",
    "    optimizer = optimizers[name]\n",
    "    best_accuracy = 0.0\n",
    "    train_losses = []\n",
    "    val_accuracies = []\n",
    "    epoch_times = []\n",
    "    \n",
    "    for epoch in tqdm(range(num_epochs), desc=\"Epochs\"):  # Progress bar for epochs\n",
    "        start_time = time.time()\n",
    "        \n",
    "        # Training phase\n",
    "        model.train()\n",
    "        running_loss = 0.0\n",
    "        for i, (inputs, labels) in enumerate(tqdm(trainloader, desc=\"Training\", leave=False)):  # Progress bar for training\n",
    "            inputs, labels = inputs.to(device), labels.to(device)\n",
    "            optimizer.zero_grad()\n",
    "            outputs = model(inputs)\n",
    "            loss = criterion(outputs, labels)\n",
    "            loss.backward()\n",
    "            optimizer.step()\n",
    "            running_loss += loss.item()\n",
    "        \n",
    "        avg_train_loss = running_loss / len(trainloader)\n",
    "        train_losses.append(avg_train_loss)\n",
    "        \n",
    "        # Validation phase\n",
    "        model.eval()\n",
    "        correct = 0\n",
    "        total = 0\n",
    "        with torch.no_grad():\n",
    "            for data in tqdm(valloader, desc=\"Validation\", leave=False):  # Progress bar for validation\n",
    "                images, labels = data[0].to(device), data[1].to(device)\n",
    "                outputs = model(images)\n",
    "                _, predicted = outputs.max(1)\n",
    "                total += labels.size(0)\n",
    "                correct += predicted.eq(labels).sum().item()\n",
    "        accuracy = 100 * correct / total\n",
    "        val_accuracies.append(accuracy)\n",
    "        \n",
    "        if accuracy > best_accuracy:\n",
    "            best_accuracy = accuracy\n",
    "        \n",
    "        end_time = time.time()\n",
    "        epoch_duration = end_time - start_time\n",
    "        epoch_times.append(epoch_duration)\n",
    "        \n",
    "        print(f\"Epoch {epoch+1}/{num_epochs} - Training Loss: {avg_train_loss:.4f}, Validation Accuracy: {accuracy:.2f}%, Time: {epoch_duration:.2f}s\")\n",
    "    \n",
    "    results[name] = {\n",
    "        \"Best Accuracy\": best_accuracy,\n",
    "        \"Training Losses\": train_losses,\n",
    "        \"Validation Accuracies\": val_accuracies,\n",
    "        \"Epoch Times\": epoch_times\n",
    "    }\n"
   ]
  },
  {
   "cell_type": "code",
   "execution_count": 8,
   "metadata": {},
   "outputs": [
    {
     "name": "stdout",
     "output_type": "stream",
     "text": [
      "Model Performance on CIFAR-100:\n",
      "ResNet-50: {'Best Accuracy': 47.52, 'Training Losses': [4.467696498740803, 4.339742814952677, 4.195556648752906, 4.009310928258029, 3.779786069284786, 3.5790853012691843, 3.424670006741177, 3.2937571785666724, 3.1585595567118037, 3.0271827348253946, 2.9139803607355463, 2.7988679910247978, 2.7035583677616986, 2.6087137433615597, 2.5235584527254105, 2.4357141202146355, 2.353095969015902, 2.284189697016369, 2.224384416910735, 2.1486743119629947, 2.093364800919186, 2.0347078747370024, 1.97758130796931, 1.9226011694832281, 1.8701912584629925, 1.8169844448566437, 1.766413583674214, 1.711820525201884, 1.6685159904035656, 1.6233983317559415, 1.5781515389680862, 1.5350030653856017, 1.4904180832884528, 1.4409717402674935, 1.4002107625657862, 1.3513608263297514, 1.3105155602097511, 1.2728829363530332, 1.23476933891123, 1.1892966651781038, 1.1402391344308853, 1.106902283362367, 1.0764154947616837, 1.029984217475761, 0.9914979416538369, 0.9523583833466877, 0.9118290435184132, 0.8758367184888233, 0.8427909792146899, 0.8115254745564677, 0.7694274644282731, 0.7371873185038567, 0.7129800614308227, 0.6739766934717243, 0.647692246870561, 0.6272411686791615, 0.593108815733682, 0.5691539541902867, 0.5452938142486594, 0.5125648232007568, 0.4798975253308361, 0.46415245990184223, 0.45469081012362783, 0.4291452538560737, 0.4064210467040539, 0.4013704395090992, 0.3694187587296421, 0.35231878041205084, 0.34380769958211616, 0.32481665375896474, 0.3093111090870066, 0.2991558038206263, 0.28582075458358636, 0.26613847801292484, 0.2553285800597884, 0.24080612578175284, 0.23323035147041082, 0.2385494704781608, 0.2324175943027843, 0.2250848547132178, 0.21994886242530562, 0.1972043359313499, 0.19816234432668847, 0.19319089980457316, 0.18374573875387962, 0.18641381863165984, 0.17242849313400008, 0.17435348613864995, 0.16964052833447402, 0.16897777561098337, 0.1609820852225477, 0.15167858921499414, 0.16144881897013297, 0.1563672561791133, 0.1577936173416674, 0.15690257950601252, 0.15418789235197686, 0.14231229878284715, 0.13734967498616737, 0.13599836716259067], 'Training Accuracies': [2.9244444444444446, 4.18, 5.575555555555556, 7.844444444444444, 11.373333333333333, 14.831111111111111, 17.275555555555556, 19.64666666666667, 22.182222222222222, 24.82, 26.635555555555555, 29.22222222222222, 31.24222222222222, 33.02, 34.864444444444445, 36.57333333333333, 38.16888888888889, 39.65111111111111, 40.973333333333336, 42.58222222222222, 43.83555555555556, 45.15777777777778, 46.422222222222224, 47.82666666666667, 49.2, 50.42444444444445, 51.49333333333333, 52.59111111111111, 53.675555555555555, 54.73777777777778, 55.937777777777775, 57.33777777777778, 58.184444444444445, 59.55555555555556, 60.54666666666667, 61.69777777777778, 62.84, 63.68222222222222, 64.53777777777778, 65.81111111111112, 67.14888888888889, 67.70222222222222, 68.94, 69.89111111111112, 71.28, 72.31111111111112, 73.36444444444444, 74.25777777777778, 75.21111111111111, 76.01777777777778, 77.27111111111111, 78.24666666666667, 78.80888888888889, 80.14, 80.56666666666666, 81.46, 82.53111111111112, 82.75777777777778, 83.76222222222222, 84.92444444444445, 85.92666666666666, 86.21111111111111, 86.62666666666667, 87.30222222222223, 87.86888888888889, 87.97111111111111, 89.18222222222222, 89.58666666666667, 89.93111111111111, 90.47333333333333, 90.98666666666666, 91.32222222222222, 91.64222222222222, 92.16222222222223, 92.62666666666667, 93.14888888888889, 93.25777777777778, 92.99777777777778, 93.25111111111111, 93.47555555555556, 93.50444444444445, 94.49111111111111, 94.23555555555555, 94.53333333333333, 94.74888888888889, 94.66, 95.21555555555555, 95.06444444444445, 95.24444444444444, 95.29333333333334, 95.40444444444445, 95.83555555555556, 95.49111111111111, 95.59777777777778, 95.58222222222223, 95.64444444444445, 95.56222222222222, 96.02222222222223, 96.19333333333333, 96.27111111111111], 'Validation Losses': [4.426257681846619, 4.296777701377868, 4.132839834690094, 3.929550039768219, 3.6871703386306764, 3.529707360267639, 3.3949256420135496, 3.2474181056022644, 3.1696430325508116, 3.086649715900421, 2.9513303637504578, 2.8590585827827453, 2.785774624347687, 2.713729774951935, 2.655614197254181, 2.5720333099365233, 2.6167266964912415, 2.521379017829895, 2.4869858026504517, 2.500373661518097, 2.3612794280052185, 2.3510011076927184, 2.343583869934082, 2.2824362754821776, 2.3515178203582763, 2.2687379360198974, 2.22256937623024, 2.24710408449173, 2.2325314223766326, 2.2084429025650025, 2.183398127555847, 2.177143561840057, 2.164396899938583, 2.1298465371131896, 2.133018469810486, 2.16342311501503, 2.156450700759888, 2.134785145521164, 2.2276996195316316, 2.1583326756954193, 2.1319489598274233, 2.1881277203559875, 2.202583485841751, 2.23540820479393, 2.200908237695694, 2.195913326740265, 2.1926222443580627, 2.3579968094825743, 2.227040684223175, 2.294273328781128, 2.324457609653473, 2.288287651538849, 2.2951400876045227, 2.347407078742981, 2.3168402910232544, 2.3317070484161375, 2.388837289810181, 2.3795446872711183, 2.4283453941345217, 2.376427686214447, 2.4427690148353576, 2.454637861251831, 2.481445646286011, 2.4534761548042296, 2.546107733249664, 2.5306935548782348, 2.4916613578796385, 2.5899118900299074, 2.468622124195099, 2.6589017271995545, 2.544041299819946, 2.5442248344421388, 2.5467783331871034, 2.5643949031829836, 2.6154907822608946, 2.6089325308799745, 2.6619027733802794, 2.6204241514205933, 2.6261683225631716, 2.584616243839264, 2.6054346561431885, 2.5666505217552187, 2.582552671432495, 2.6320818305015563, 2.662180280685425, 2.6189385652542114, 2.6452176451683043, 2.6403412103652952, 2.6318216919898987, 2.669916260242462, 2.7337921023368836, 2.6711883783340453, 2.6550837755203247, 2.6526735544204714, 2.7350796937942503, 2.652502679824829, 2.6806884765625, 2.7047831654548644, 2.7200640439987183, 2.712645137310028], 'Validation Accuracies': [3.12, 4.9, 6.06, 9.18, 12.56, 16.02, 17.72, 21.28, 22.9, 24.26, 26.7, 28.44, 29.6, 30.52, 31.16, 33.94, 33.7, 35.2, 36.56, 36.68, 37.98, 38.56, 38.62, 40.54, 39.4, 40.92, 42.08, 41.78, 41.76, 42.96, 43.3, 43.46, 44.26, 44.0, 44.6, 43.8, 45.06, 45.38, 43.96, 44.58, 46.32, 45.34, 44.66, 44.42, 45.2, 46.42, 46.28, 43.46, 45.66, 44.96, 44.74, 45.54, 46.7, 45.34, 46.4, 46.08, 44.84, 45.64, 45.1, 45.82, 45.86, 45.4, 45.18, 46.38, 44.72, 45.86, 46.72, 44.86, 46.68, 44.68, 45.7, 46.0, 45.7, 46.02, 45.86, 46.1, 45.76, 46.42, 46.28, 46.82, 47.06, 47.08, 47.52, 46.1, 45.5, 47.52, 46.02, 46.94, 47.16, 46.28, 46.12, 46.72, 46.4, 46.3, 45.76, 47.06, 46.52, 46.22, 46.18, 46.6], 'Epoch Times': [20.485332012176514, 17.563874006271362, 16.27134919166565, 16.770862579345703, 15.920031785964966, 15.944898128509521, 15.651118993759155, 17.97746467590332, 18.9542293548584, 15.99160885810852, 15.468848943710327, 16.315510034561157, 15.731183052062988, 17.74019718170166, 15.659182071685791, 15.958683490753174, 14.460768222808838, 15.783631086349487, 16.4334557056427, 16.066962957382202, 16.171547889709473, 16.40768313407898, 15.894227981567383, 15.304140329360962, 14.369046926498413, 14.720350742340088, 16.432519674301147, 14.472214460372925, 14.558263063430786, 15.839514255523682, 16.891093492507935, 17.823590993881226, 16.1479332447052, 15.616910934448242, 17.267292499542236, 14.515305519104004, 16.18108034133911, 16.99497127532959, 14.897879362106323, 14.450755596160889, 16.393572330474854, 15.044245719909668, 15.262606382369995, 14.236440181732178, 14.300281047821045, 15.166030168533325, 13.330626964569092, 14.831471920013428, 13.948359489440918, 14.18965482711792, 14.47487998008728, 14.268583059310913, 15.829576253890991, 15.057976007461548, 14.113343477249146, 14.102914094924927, 14.341109275817871, 15.087419271469116, 14.566963195800781, 14.169575929641724, 14.091816902160645, 13.104682683944702, 15.178192853927612, 14.503620624542236, 14.030545711517334, 14.212499141693115, 14.587702512741089, 14.33948278427124, 14.628253698348999, 14.239965438842773, 14.700207471847534, 14.945333003997803, 14.66221833229065, 13.990567922592163, 14.28574824333191, 14.61810827255249, 14.864730834960938, 14.471004486083984, 15.133805990219116, 15.31419324874878, 20.999678134918213, 15.713918447494507, 17.98485493659973, 14.46365737915039, 14.186227321624756, 14.550748586654663, 14.594924688339233, 15.682164192199707, 14.29594874382019, 13.426594495773315, 14.536465406417847, 14.112449407577515, 14.673802375793457, 13.804816961288452, 14.787935018539429, 13.986574172973633, 14.33047342300415, 14.428867101669312, 14.437937498092651, 15.313579559326172], 'Model Parameters': 23712932, 'Training Loss Stability': 1.135660740282353}\n"
     ]
    }
   ],
   "source": [
    "print(\"Model Performance on CIFAR-100:\")\n",
    "for name, accuracy in results.items():\n",
    "    print(f\"{name}: {accuracy}\")\n"
   ]
  }
 ],
 "metadata": {
  "kernelspec": {
   "display_name": "pytorch_gpu",
   "language": "python",
   "name": "python3"
  },
  "language_info": {
   "codemirror_mode": {
    "name": "ipython",
    "version": 3
   },
   "file_extension": ".py",
   "mimetype": "text/x-python",
   "name": "python",
   "nbconvert_exporter": "python",
   "pygments_lexer": "ipython3",
   "version": "3.11.5"
  }
 },
 "nbformat": 4,
 "nbformat_minor": 2
}
